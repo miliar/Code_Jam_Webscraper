{
 "cells": [
  {
   "cell_type": "code",
   "execution_count": 1,
   "metadata": {},
   "outputs": [],
   "source": [
    "import helper\n",
    "import unittest\n",
    "from unittest.mock import patch"
   ]
  },
  {
   "cell_type": "code",
   "execution_count": 2,
   "metadata": {},
   "outputs": [],
   "source": [
    "class TestHelper(unittest.TestCase):\n",
    "    \n",
    "    def test_simple_get_good_response(self):\n",
    "        with patch('helper.get') as mocked_get:\n",
    "            mocked_get.return_value.headers = {'Content-Type':'html'}\n",
    "            mocked_get.return_value.status_code = 200\n",
    "            mocked_get.return_value.content = 'Good Response'\n",
    "            \n",
    "            content = helper.simple_get('Test-url')\n",
    "            self.assertEqual(content, 'Good Response')\n",
    "    \n",
    "    def test_simple_get_bad_status_code(self):\n",
    "        with patch('helper.get') as mocked_get:\n",
    "            mocked_get.return_value.headers = {'Content-Type':'html'}\n",
    "            mocked_get.return_value.status_code = 404\n",
    "            \n",
    "            content = helper.simple_get('Test-url')\n",
    "            self.assertEqual(content, None)\n",
    "            \n",
    "    def test_simple_get_bad_headers(self):\n",
    "        with patch('helper.get') as mocked_get:\n",
    "            mocked_get.return_value.headers = {'Content-Type':'zip'}\n",
    "            mocked_get.return_value.status_code = 200\n",
    "            \n",
    "            content = helper.simple_get('Test-url')\n",
    "            self.assertEqual(content, None)\n",
    "            "
   ]
  },
  {
   "cell_type": "code",
   "execution_count": 3,
   "metadata": {
    "scrolled": false
   },
   "outputs": [
    {
     "name": "stderr",
     "output_type": "stream",
     "text": [
      "...\n",
      "----------------------------------------------------------------------\n",
      "Ran 3 tests in 0.006s\n",
      "\n",
      "OK\n"
     ]
    }
   ],
   "source": [
    "if __name__== '__main__':\n",
    "    unittest.main(argv=['first-arg-is-ignored'], exit=False) #Jupyter notebook need those args"
   ]
  }
 ],
 "metadata": {
  "kernelspec": {
   "display_name": "Python 3",
   "language": "python",
   "name": "python3"
  },
  "language_info": {
   "codemirror_mode": {
    "name": "ipython",
    "version": 3
   },
   "file_extension": ".py",
   "mimetype": "text/x-python",
   "name": "python",
   "nbconvert_exporter": "python",
   "pygments_lexer": "ipython3",
   "version": "3.6.6"
  }
 },
 "nbformat": 4,
 "nbformat_minor": 2
}
