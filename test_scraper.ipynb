{
 "cells": [
  {
   "cell_type": "code",
   "execution_count": 1,
   "metadata": {},
   "outputs": [],
   "source": [
    "from scraper import Scraper\n",
    "import unittest\n",
    "from unittest.mock import patch\n",
    "import pickle\n",
    "from test_config import *"
   ]
  },
  {
   "cell_type": "code",
   "execution_count": 2,
   "metadata": {},
   "outputs": [],
   "source": [
    "class TestScraper(unittest.TestCase):\n",
    "    def setUp(self):\n",
    "        with open(\"offline_test_page/test_main_page.p\", \"rb\") as main, open(\"offline_test_page/test_sub_page.p\", \"rb\") as sub :\n",
    "            self.main_page = pickle.load(main)\n",
    "            self.sub_page = pickle.load(sub)\n",
    "            \n",
    "    def test_get_all_downlad_links(self):\n",
    "        def is_valid_url(url):\n",
    "            if url == OFFLINE_MAIN_PAGE:\n",
    "                return self.main_page\n",
    "            elif url == OFFLINE_SUB_PAGE:\n",
    "                return self.sub_page\n",
    "            else:\n",
    "                return None\n",
    "            \n",
    "        with patch('scraper.simple_get') as mocked_get:\n",
    "            mocked_get.side_effect = is_valid_url\n",
    "            \n",
    "            s = Scraper('08', 0, 1, 'save_path_nr_1')\n",
    "            download_links = s.get_all_download_links()\n",
    "            sample_links = [download_links[n] for n in DOWNLOAD_LINKS_NR]\n",
    "            \n",
    "            self.assertEqual(sample_links, DOWNLOAD_LINKS)"
   ]
  },
  {
   "cell_type": "code",
   "execution_count": 3,
   "metadata": {
    "scrolled": false
   },
   "outputs": [
    {
     "name": "stderr",
     "output_type": "stream",
     "text": [
      ".\n",
      "----------------------------------------------------------------------\n",
      "Ran 1 test in 0.078s\n",
      "\n",
      "OK\n"
     ]
    }
   ],
   "source": [
    "if __name__== '__main__':\n",
    "    unittest.main(argv=['first-arg-is-ignored'], exit=False)"
   ]
  }
 ],
 "metadata": {
  "kernelspec": {
   "display_name": "Python 3",
   "language": "python",
   "name": "python3"
  },
  "language_info": {
   "codemirror_mode": {
    "name": "ipython",
    "version": 3
   },
   "file_extension": ".py",
   "mimetype": "text/x-python",
   "name": "python",
   "nbconvert_exporter": "python",
   "pygments_lexer": "ipython3",
   "version": "3.6.6"
  }
 },
 "nbformat": 4,
 "nbformat_minor": 2
}
